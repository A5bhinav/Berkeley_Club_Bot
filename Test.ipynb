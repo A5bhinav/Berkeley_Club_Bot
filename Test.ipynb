{
 "cells": [
  {
   "cell_type": "code",
   "execution_count": null,
   "id": "694ea8ab",
   "metadata": {},
   "outputs": [],
   "source": [
    "# This is test code if nothing is working\n",
    "# #Display the name of the subreddit\n",
    "# print(\"Display Name:\", subreddit.display_name)\n",
    "\n",
    "# #Display the title of the subreddit\n",
    "# print(\"Title:\", subreddit.title)\n",
    "\n",
    "# #Display the description of the subreddit\n",
    "# print(\"Description:\", subreddit.description)"
   ]
  },
  {
   "cell_type": "code",
   "execution_count": null,
   "id": "be8413cd",
   "metadata": {},
   "outputs": [],
   "source": [
    "# subreddit._fetch()\n",
    "\n",
    "# print(sorted(vars(subreddit).keys()))\n",
    "\n",
    "# print(\"Display Name:\", subreddit.display_name)\n",
    "\n",
    "# try:\n",
    "#     print(\"Title:\", subreddit.unsubscribe)\n",
    "# except Exception as e:\n",
    "#     print(\"Error:\", e)\n",
    "\n",
    "# print(\"Title:\", subreddit.title)\n",
    "\n",
    "# print(\"Description:\", subreddit.description)"
   ]
  }
 ],
 "metadata": {
  "language_info": {
   "name": "python"
  }
 },
 "nbformat": 4,
 "nbformat_minor": 5
}
