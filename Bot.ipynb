{
 "cells": [
  {
   "cell_type": "code",
   "execution_count": 3,
   "id": "178c2806",
   "metadata": {},
   "outputs": [
    {
     "ename": "ModuleNotFoundError",
     "evalue": "No module named 'praw'",
     "output_type": "error",
     "traceback": [
      "\u001b[31m---------------------------------------------------------------------------\u001b[39m",
      "\u001b[31mModuleNotFoundError\u001b[39m                       Traceback (most recent call last)",
      "\u001b[36mCell\u001b[39m\u001b[36m \u001b[39m\u001b[32mIn[3]\u001b[39m\u001b[32m, line 1\u001b[39m\n\u001b[32m----> \u001b[39m\u001b[32m1\u001b[39m \u001b[38;5;28;01mimport\u001b[39;00m\u001b[38;5;250m \u001b[39m\u001b[34;01mpraw\u001b[39;00m\n\u001b[32m      2\u001b[39m \u001b[38;5;28;01mimport\u001b[39;00m\u001b[38;5;250m \u001b[39m\u001b[34;01mpandas\u001b[39;00m\u001b[38;5;250m \u001b[39m\u001b[38;5;28;01mas\u001b[39;00m\u001b[38;5;250m \u001b[39m\u001b[34;01mpd\u001b[39;00m\n\u001b[32m      4\u001b[39m \u001b[38;5;66;03m#URL to access the app needed to scrape the data off the Berkeley subreddit\u001b[39;00m\n\u001b[32m      5\u001b[39m \u001b[38;5;66;03m# https://www.reddit.com/prefs/apps\u001b[39;00m\n\u001b[32m      6\u001b[39m \n\u001b[32m   (...)\u001b[39m\u001b[32m     11\u001b[39m \u001b[38;5;66;03m#Create chatbot that utilizes natural language processing that will give users feedback\u001b[39;00m\n\u001b[32m     12\u001b[39m \u001b[38;5;66;03m#about each consulting club here at Berkeley. \u001b[39;00m\n",
      "\u001b[31mModuleNotFoundError\u001b[39m: No module named 'praw'"
     ]
    }
   ],
   "source": [
    "import praw\n",
    "import pandas as pd\n",
    "\n",
    "#URL to access the app needed to scrape the data off the Berkeley subreddit\n",
    "# https://www.reddit.com/prefs/apps\n",
    "\n",
    "\n",
    "#PLAN\n",
    "#Scrape the data off the Berkeley subreddit about consulting clubs\n",
    "#Organize that data using the pandas library\n",
    "#Create chatbot that utilizes natural language processing that will give users feedback\n",
    "#about each consulting club here at Berkeley. \n",
    "\n",
    "reddit_read_only = praw.Reddit(client_id = \"QlBfNfxQ3e_MGP9RkaOQig\",\n",
    "                               client_secret = \"SpLjOwYdQPU4z1wqcXBjVl_7DnUIZg\",\n",
    "                               user_agent = \"Berkeley_Consulting\")\n",
    "\n",
    "subreddit = reddit_read_only.subreddit(\"berkeley\")\n",
    "\n",
    "# This is test code if nothing is working\n",
    "# #Display the name of the subreddit\n",
    "# print(\"Display Name:\", subreddit.display_name)\n",
    "\n",
    "# #Display the title of the subreddit\n",
    "# print(\"Title:\", subreddit.title)\n",
    "\n",
    "# #Display the description of the subreddit\n",
    "# print(\"Description:\", subreddit.description)\n",
    "\n",
    "\n",
    "posts = subreddit.hot()\n",
    "for post in posts:\n",
    "    lowerCaseTitle = post.title.lower()\n",
    "    if \"consulting\" in lowerCaseTitle and \"club\" in lowerCaseTitle:\n",
    "        print(post.title+ \"\\n\")\n",
    "    else:\n",
    "        continue\n",
    "\n",
    "# subreddit._fetch()\n",
    "\n",
    "# print(sorted(vars(subreddit).keys()))\n",
    "\n",
    "# print(\"Display Name:\", subreddit.display_name)\n",
    "\n",
    "# try:\n",
    "#     print(\"Title:\", subreddit.unsubscribe)\n",
    "# except Exception as e:\n",
    "#     print(\"Error:\", e)\n",
    "\n",
    "# print(\"Title:\", subreddit.title)\n",
    "\n",
    "# print(\"Description:\", subreddit.description)"
   ]
  }
 ],
 "metadata": {
  "kernelspec": {
   "display_name": ".venv",
   "language": "python",
   "name": "python3"
  },
  "language_info": {
   "codemirror_mode": {
    "name": "ipython",
    "version": 3
   },
   "file_extension": ".py",
   "mimetype": "text/x-python",
   "name": "python",
   "nbconvert_exporter": "python",
   "pygments_lexer": "ipython3",
   "version": "3.13.6"
  }
 },
 "nbformat": 4,
 "nbformat_minor": 5
}
