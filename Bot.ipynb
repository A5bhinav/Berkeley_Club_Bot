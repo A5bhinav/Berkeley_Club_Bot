{
 "cells": [
  {
   "cell_type": "code",
   "execution_count": 16,
   "id": "fe14d58d",
   "metadata": {},
   "outputs": [],
   "source": [
    "import praw\n",
    "import pandas as pd\n",
    "\n",
    "# #URL to access the app needed to scrape the data off the Berkeley subreddit\n",
    "# # https://www.reddit.com/prefs/apps\n",
    "\n",
    "\n",
    "# #PLAN\n",
    "# #Scrape the data off the Berkeley subreddit about consulting clubs\n",
    "# #Organize that data using the pandas library\n",
    "# #Create chatbot that utilizes natural language processing that will give users feedback\n",
    "# #about each consulting club here at Berkeley. \n",
    "\n",
    "reddit_read_only = praw.Reddit(client_id = \"QlBfNfxQ3e_MGP9RkaOQig\",\n",
    "                               client_secret = \"SpLjOwYdQPU4z1wqcXBjVl_7DnUIZg\",\n",
    "                               user_agent = \"Berkeley_Consulting\")\n",
    "\n",
    "subreddit = reddit_read_only.subreddit(\"berkeley\")"
   ]
  },
  {
   "cell_type": "code",
   "execution_count": 17,
   "id": "178c2806",
   "metadata": {},
   "outputs": [],
   "source": [
    "consulting_posts = subreddit.search('consulting')\n",
    "\n",
    "posts_dict = {'Title': [], 'Post Text': [], 'ID': [], 'Score': [], 'Total Comments': [], 'Post URL': []}"
   ]
  },
  {
   "cell_type": "code",
   "execution_count": 18,
   "id": "6ecf18af",
   "metadata": {},
   "outputs": [
    {
     "name": "stdout",
     "output_type": "stream",
     "text": [
      "                                                Title  \\\n",
      "0     What are consulting clubs actually looking for?   \n",
      "1               Asian monoculture in consulting clubs   \n",
      "2   Rejected from consulting club after having bee...   \n",
      "3   Tech PM blocks all “.berkeley.edu” e-mails bc ...   \n",
      "4   Hey, what ACTUALLY gets you into these consult...   \n",
      "..                                                ...   \n",
      "95  got into a consulting club that has nothing to...   \n",
      "96          another bear rejected by consulting clubs   \n",
      "97  There are 150-odd chapters of Chinese Students...   \n",
      "98             NEW! - Stress Management Consultations   \n",
      "99  Made it to a Consulting Club’s Final Round Int...   \n",
      "\n",
      "                                            Post Text       ID  Score  \\\n",
      "0   I am an incoming freshman at Haas next year an...  1kvi9jt     43   \n",
      "1   Over the past month on this subreddit there ha...  16o5u8z    266   \n",
      "2   titles kinda self explanatory lol. didn’t even...  1na99k8     74   \n",
      "3             Consulting clubs making us look bad smh  19d8ceg    555   \n",
      "4   My friends keep raving about how impossible it...  1nkmlst      1   \n",
      "..                                                ...      ...    ...   \n",
      "95                      do i send it? do i not? help.   sn6pop     26   \n",
      "96  I know it's just a club but man I wanna cry i ...   piudil     32   \n",
      "97                                                      69fs7e     52   \n",
      "98  Stress Management Consultations at the UHS Car...   zdf1h4      6   \n",
      "99  I’m not happy about getting rejected but I did...   sjnb6y      4   \n",
      "\n",
      "    Total Comments                                           Post URL  \n",
      "0               55  https://www.reddit.com/r/berkeley/comments/1kv...  \n",
      "1              112  https://www.reddit.com/r/berkeley/comments/16o...  \n",
      "2               22  https://www.reddit.com/r/berkeley/comments/1na...  \n",
      "3               43               https://i.redd.it/em6d28vzh2ec1.jpeg  \n",
      "4               17  https://www.reddit.com/r/berkeley/comments/1nk...  \n",
      "..             ...                                                ...  \n",
      "95               5  https://www.reddit.com/r/berkeley/comments/sn6...  \n",
      "96               7  https://www.reddit.com/r/berkeley/comments/piu...  \n",
      "97              22  https://www.nytimes.com/2017/05/04/us/chinese-...  \n",
      "98               0  https://www.reddit.com/r/berkeley/comments/zdf...  \n",
      "99               6  https://www.reddit.com/r/berkeley/comments/sjn...  \n",
      "\n",
      "[100 rows x 6 columns]\n"
     ]
    }
   ],
   "source": [
    "for post in consulting_posts:\n",
    "    #The title of the post\n",
    "    posts_dict['Title'].append(post.title)\n",
    "    #The text inside of the post\n",
    "    posts_dict['Post Text'].append(post.selftext)\n",
    "    #Unique ID of each post\n",
    "    posts_dict['ID'].append(post.id)\n",
    "    #The scoure of a post\n",
    "    posts_dict['Score'].append(post.score)\n",
    "    #Total number of comments inside the post\n",
    "    posts_dict['Total Comments'].append(post.num_comments)\n",
    "    #URL of each post\n",
    "    posts_dict['Post URL'].append(post.url)\n",
    "\n",
    "consulting_club_posts = pd.DataFrame(posts_dict)\n",
    "print(consulting_club_posts)\n"
   ]
  }
 ],
 "metadata": {
  "kernelspec": {
   "display_name": ".venv",
   "language": "python",
   "name": "python3"
  },
  "language_info": {
   "codemirror_mode": {
    "name": "ipython",
    "version": 3
   },
   "file_extension": ".py",
   "mimetype": "text/x-python",
   "name": "python",
   "nbconvert_exporter": "python",
   "pygments_lexer": "ipython3",
   "version": "3.13.6"
  }
 },
 "nbformat": 4,
 "nbformat_minor": 5
}
