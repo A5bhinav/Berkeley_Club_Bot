{
 "cells": [
  {
   "cell_type": "code",
   "execution_count": 1,
   "id": "fe14d58d",
   "metadata": {},
   "outputs": [],
   "source": [
    "import praw\n",
    "import pandas as pd\n",
    "\n",
    "# #URL to access the app needed to scrape the data off the Berkeley subreddit\n",
    "# # https://www.reddit.com/prefs/apps\n",
    "\n",
    "\n",
    "# #PLAN\n",
    "# #Scrape the data off the Berkeley subreddit about consulting clubs\n",
    "# #Organize that data using the pandas library\n",
    "# #Create chatbot that utilizes natural language processing that will give users feedback\n",
    "# #about each consulting club here at Berkeley. \n",
    "\n",
    "reddit_read_only = praw.Reddit(client_id = \"QlBfNfxQ3e_MGP9RkaOQig\",\n",
    "                               client_secret = \"SpLjOwYdQPU4z1wqcXBjVl_7DnUIZg\",\n",
    "                               user_agent = \"Berkeley_Consulting\")\n",
    "\n",
    "subreddit = reddit_read_only.subreddit(\"berkeley\")"
   ]
  },
  {
   "cell_type": "code",
   "execution_count": 2,
   "id": "178c2806",
   "metadata": {},
   "outputs": [],
   "source": [
    "consulting_posts = subreddit.search('consulting')\n",
    "\n",
    "posts_dict = {'Title': [], 'Post Text': [], 'ID': [], 'Score': [], 'Total Comments': [], 'Post URL': []}"
   ]
  },
  {
   "cell_type": "code",
   "execution_count": 3,
   "id": "6ecf18af",
   "metadata": {},
   "outputs": [
    {
     "name": "stdout",
     "output_type": "stream",
     "text": [
      "                                                Title  \\\n",
      "0     What are consulting clubs actually looking for?   \n",
      "1               Asian monoculture in consulting clubs   \n",
      "2   Rejected from consulting club after having bee...   \n",
      "3   Tech PM blocks all “.berkeley.edu” e-mails bc ...   \n",
      "4   Why are some of these Business/Consulting Club...   \n",
      "..                                                ...   \n",
      "95  got into a consulting club that has nothing to...   \n",
      "96          another bear rejected by consulting clubs   \n",
      "97  There are 150-odd chapters of Chinese Students...   \n",
      "98             NEW! - Stress Management Consultations   \n",
      "99  Made it to a Consulting Club’s Final Round Int...   \n",
      "\n",
      "                                            Post Text       ID  Score  \\\n",
      "0   I am an incoming freshman at Haas next year an...  1kvi9jt     43   \n",
      "1   Over the past month on this subreddit there ha...  16o5u8z    267   \n",
      "2   titles kinda self explanatory lol. didn’t even...  1na99k8     75   \n",
      "3             Consulting clubs making us look bad smh  19d8ceg    565   \n",
      "4   My friend and I were enjoying dinner in the so...  16jsy19    365   \n",
      "..                                                ...      ...    ...   \n",
      "95                      do i send it? do i not? help.   sn6pop     24   \n",
      "96  I know it's just a club but man I wanna cry i ...   piudil     33   \n",
      "97                                                      69fs7e     53   \n",
      "98  Stress Management Consultations at the UHS Car...   zdf1h4      6   \n",
      "99  I’m not happy about getting rejected but I did...   sjnb6y      2   \n",
      "\n",
      "    Total Comments                                           Post URL  \n",
      "0               55  https://www.reddit.com/r/berkeley/comments/1kv...  \n",
      "1              112  https://www.reddit.com/r/berkeley/comments/16o...  \n",
      "2               22  https://www.reddit.com/r/berkeley/comments/1na...  \n",
      "3               43               https://i.redd.it/em6d28vzh2ec1.jpeg  \n",
      "4               55  https://www.reddit.com/r/berkeley/comments/16j...  \n",
      "..             ...                                                ...  \n",
      "95               5  https://www.reddit.com/r/berkeley/comments/sn6...  \n",
      "96               7  https://www.reddit.com/r/berkeley/comments/piu...  \n",
      "97              22  https://www.nytimes.com/2017/05/04/us/chinese-...  \n",
      "98               0  https://www.reddit.com/r/berkeley/comments/zdf...  \n",
      "99               6  https://www.reddit.com/r/berkeley/comments/sjn...  \n",
      "\n",
      "[100 rows x 6 columns]\n"
     ]
    }
   ],
   "source": [
    "for post in consulting_posts:\n",
    "    #The title of the post\n",
    "    posts_dict['Title'].append(post.title)\n",
    "    #The text inside of the post\n",
    "    posts_dict['Post Text'].append(post.selftext)\n",
    "    #Unique ID of each post\n",
    "    posts_dict['ID'].append(post.id)\n",
    "    #The scoure of a post\n",
    "    posts_dict['Score'].append(post.score)\n",
    "    #Total number of comments inside the post\n",
    "    posts_dict['Total Comments'].append(post.num_comments)\n",
    "    #URL of each post\n",
    "    posts_dict['Post URL'].append(post.url)\n",
    "\n",
    "consulting_club_posts = pd.DataFrame(posts_dict)\n",
    "print(consulting_club_posts)\n"
   ]
  },
  {
   "cell_type": "code",
   "execution_count": 4,
   "id": "ebed2a3d",
   "metadata": {},
   "outputs": [
    {
     "name": "stdout",
     "output_type": "stream",
     "text": [
      "[[-0.018994978, 0.0129991, -0.0036018894, -0.0031700125, 0.009426655, -0.0028496964, 0.060952432, 0.034682203, -0.0030728243, -0.02904805, 0.012524607, 0.0104840845, -0.01167893, 0.041888535, 0.08428942, 0.05346695, 0.0726193, 0.017478492, -0.030527465, -0.0063055926, 0.0050021466, 0.014926702, 0.0056062546, 0.0005452206, 0.04803895, 0.01061787, 0.044724368, -0.019061187, -0.011002971, 0.015662197, 0.04212373, -0.05429164, 0.01642771, -0.0007761418, -0.016213376, -0.027217044, 0.0342329, 0.010205899, 0.017316276, -0.022378622, -0.0563324, -0.015968863, 0.0006317522, 0.0006160649, -0.061257437, -0.0077076415, -0.0005407495, 0.05545468, -0.015679678, -0.029212829, -0.019981192, 0.03326462, -0.0142626185, 0.020240018, 0.008820874, 0.05056833, 0.009174076, -0.0282753, -0.024767978, -0.09308863, 0.03182865, -0.0014693203, 0.012075412, 0.03759287, 0.047718354, 0.05173737, 0.03644486, 0.022752156, -0.0530598, -0.003418872, -0.043388393, -0.013045021, 0.035303984, -0.0566192, -0.018162442, -0.04683782, 0.0014281372, 0.07288655, 0.022194596, 0.017628014, -0.0011713464, -0.009252875, -0.016576573, 0.037678283, 0.039048262, -0.02182667, 0.0094583575, -0.046889, 0.0010969968, 0.05987179, -0.024042465, -0.06418542, 0.04972109, 0.03203036, 0.06760017, -0.014726606, 0.063255906, -0.06435515, -0.021828117, -0.052546237, -0.04798917, 0.04683886, 0.023452034, 0.0052264077, -0.036803596, 0.04653762, 0.008906203, -0.07329496, -0.028052362, -0.0011789782, -0.085097216, -0.027462732, -0.0021570646, -0.002991666, -0.044573795, 0.07683158, 0.007635538, 0.012027377, 0.0010702525, -0.0077246455, -0.010493415, 0.056768253, -0.003919556, 0.057861727, -0.050987236, 0.050268494, -0.07046403, 0.015037698, -0.03196719, -0.09074284, -0.061783742, 0.014674467, -0.024099942, 0.030422628, -0.022281349, -0.028825298, 0.015864352, -0.03719523, 0.012898405, 0.038872786, -0.015094802, -0.0047592097, 0.030756447, -0.053717688, 0.03368525, -0.0069777872, 0.038551897, -0.03686755, -0.016721956, 0.00885831, 0.013325109, 0.067761794, -0.0062503256, -0.024766589, 0.003267012, 0.01653476, 0.036387872, -0.02255504, -0.0075372295, -0.00057728705, -0.022125049, 0.017051062, 0.05574508, 0.012175499, 0.036494136, -0.0014279244, 0.006051401, -0.02085281, -0.057215, 0.028631933, -0.036525253, -0.008933517, 0.042976968, -0.018733563, -0.004027178, 0.02258321, 0.0515785, 0.00881527, 0.003855437, -0.0004339374, -0.05924457, 0.014074957, -0.015942546, -0.0036184965, 0.007137891, -0.07463887, 0.031202683, -0.02572662, -0.04477466, 0.036810283, -0.012731043, -0.040433545, 0.02250183, -0.026045859, 0.06687126, -0.048079778, 0.04720812, 0.06468384, 0.020377856, -0.0014095263, 0.011352201, 0.011062486, 0.014695018, 0.026498001, -0.052176435, 0.019786038, 0.044622142, -0.017020263, -0.024971489, 0.024521057, -0.031161234, -0.010122121, 0.0103935525, 0.015322798, 0.03460112, -0.014688818, 0.0017698475, -0.011567012, 0.026199607, -0.035565984, 0.099087894, 0.011715925, 0.007835791, 0.01923176, -0.04921693, 0.042586856, 0.061999828, -0.042205974, -0.022878034, 0.012846602, 0.059984818, 0.011048021, 0.0053659854, 0.030114796, 0.025545156, -0.03164777, -0.057936613, -0.0067624673, 0.078288935, -0.0431889, -0.034532834, 0.012785549, -0.0040304684, 0.012217362, 0.008807784, 0.009709269, 0.008100962, 0.019220617, -0.0010664306, -0.0027801802, -0.034067772, 0.00665938, 0.033514686, -0.03225124, -0.033026233, -0.031494133, 0.030730335, 0.051928326, 0.0044574644, -0.000560339, 0.017976295, 0.033283237, -0.023999294, -0.020107966, -0.024429355, -0.04658465, -0.04587181, -0.0042815236, -0.0016401429, -0.019916182, 0.007962488, 0.013734968, 0.01099286, -0.017910117, -0.048394974, -0.0002912429, -0.034126755, -0.009754286, 0.008088808, 0.01486484, -0.0074530663, 0.035206366, -0.053807374, -0.07064516, -0.015034984, -0.0013287681, -0.025219193, -0.05056883, 0.025106827, -0.020264192, 0.04221439, 0.015694225, -0.0025155651, 0.027807262, 0.060426217, -0.032077033, 0.044313733, 0.067680076, -0.0099104345, 0.043236267, 0.009333769, -0.002302242, 0.008614692, -0.063963674, 0.017504705, -0.016555743, 0.029205069, -0.03237697, -0.2554164, 0.04470371, -0.010218657, -0.0014311871, 0.034098003, -0.09255916, 0.0012300282, -0.0035518156, -0.0392959, 0.04461662, -0.017052395, -0.025875004, -0.009455637, 0.07417807, -0.020572158, 0.027803559, 0.036916453, -0.060030725, -0.034488577, -0.011253265, 0.0047349106, -0.031748936, -0.022388203, 0.05374074, 0.020052245, 0.059175685, -0.034135677, -0.030047202, -0.06547269, -0.014693491, 0.035533506, 0.00790027, -0.02067708, 0.041461047, 0.02406892, -0.030992743, 0.027132526, -0.008825918, -0.028326321, 0.05447259, 0.0007221736, -0.015888132, -0.04575004, 0.002088862, 0.043138362, 0.041282456, -0.029379651, -0.023324553, 0.012630099, 0.022027407, 0.0074148583, 0.016250726, -0.044549167, 0.033733673, -0.03963333, 0.031118078, 0.0010377538, 0.06068926, -0.06517198, 0.014943333, -0.06094154, -0.024556236, 0.01645453, -0.03284264, -0.040881682, -0.047791123, -0.03766385, 0.040547978, -0.014374106, 0.008626878, 0.01591238, 0.0065536937, -0.00889427, -0.077651724, 0.012292355, -0.0081647085, 0.0037813412, -0.006257399, -0.03038466, 0.019755919, -0.013478586, 0.0056929216, 0.018786674, 0.018288068, -0.029857008, -0.014219031, 0.04577304, 0.046369854, -0.026071565, -0.00074088504, 0.03875581, -0.007585172, 0.036519125, 0.013612687, 0.017990826, 0.066864714, -0.048525393, 0.012823553, -0.01726603, 0.00626674, -0.0030123603, -0.02777969, -0.02547898, 0.022279272, -0.04571492, -0.06136064, -0.016428215, 0.0147388205, 0.053203017, 0.029674113, 0.029541867, -0.035668742, -0.018553631, 0.001356949, -0.0061609037, -0.06285016, -0.03186019, 0.024648443, -0.008504703, -0.0322932, -0.036134996, 0.038631886, 0.006766795, -0.040142316, -0.069834284, -0.0014791928, -0.0025464648, 0.017223265, 0.0022810644, 0.03529482, -0.030836921, -0.010700149, 0.013140327, -0.018764658, 0.048344646, 0.0010991199, -0.028696878, -0.015308415, -0.05493042, 0.006346824, -0.0031231896, 0.019499563, 0.040853996, 0.017462045, 0.031928197, 0.0056484924, -0.032911494, 0.017690923, -0.0065774396, 0.038770303, 0.009160673, -0.08075697, -0.01379498, -0.0519492, -0.031587616, -0.020186879, -0.018149814, 0.060723674, -0.007541892, -0.055795643, 0.013298519, 0.010063828, -0.025065366, -0.046593472, 0.016690416, 0.066138566, -0.037886824, 0.014195189, -0.06913177, 0.015005014, -0.006894071, -0.006475105, 0.0008245332, 0.00939643, -0.016925998, 0.022778068, -0.012287617, -0.017183762, 0.062153477, 0.0062777107, 0.02293665, -0.0023738754, 0.0018943929, -0.021900676, 0.0392392, -0.026299693, 0.017409995, -0.030011747, -0.010449768, 0.03626988, -0.04225045, -0.051080637, 0.014934921, 0.01647285, -0.05593457, -0.075474516, 0.027268121, 0.041392982, -0.03418322, 0.023369186, 0.01939545, -0.05049366, -0.009995965, -0.015949693, -0.024853522, -0.032848325, 0.0073885657, 0.02103398, -0.02040214, 0.012845642, -0.018351855, -0.06800287, -0.06682848, -0.016510846, -0.044188414, -0.066220835, -0.05628907, -0.030235684, -0.014212997, 0.05458467, -0.017943596, -0.01706066, 0.0016953985, -0.050334714, -0.02135649, -0.0008230564, -0.012837195, 0.02769549, -0.029176153, -0.02632964, 0.037805952, -0.04375774, 0.024536029, 0.00587992, 0.006614956, 0.04150698, -0.03703173, 0.04925858, -0.0066027865, 0.022870373, -0.06155254, 0.0277026, 0.022787284, -0.048477322, -0.004057766, -0.010897812, -0.005364113, -0.021073531, 0.0198861, 0.04824157, 0.07082707, 0.0062340437, 0.013247627, 0.016447987, -0.011900711, 0.006257987, -0.021637525, -0.04885751, -0.0022723812, -0.0015572017, -0.010352444, 0.017792027, -0.036513653, 0.0044701993, 0.025909526, 0.05654022, -0.020486547, -0.0063729975, 0.053985946, -0.052295253, 0.027869817, -0.07895875, 0.028129973, 0.010865834, 0.009253, 0.0101914555, -0.027965667, 0.0031228657, 0.085469656, -0.062062733, -0.03535717, 0.021750635, 0.010243473, 0.006243005, 0.03404415, -0.06689461, -0.044859093, -0.01257806, -0.04764953, 0.026758825, 0.02533964, 0.012603218, -0.04057051, 0.049467843, -0.06065305, 0.015151982, 0.05942824, 0.021598572, 0.024402115, 0.05580781, -0.045148164, 0.023182295, 0.012623631, 0.06963236, -0.037640028, 0.017280743, -0.0070698513, -0.053429987, -0.019686297, -0.027807042, 0.005659432, -0.045825295, 0.02989459, 0.04913167, -0.05310227, -0.013060015, 0.031084137, 0.015132734, 0.014034719, -0.014890579, -0.047876757, -0.0011679697, 0.03750817, 0.017586894, 0.054835044, 0.05496073, -0.025550613, -0.001991205, 0.0097214235, 0.089085996, 0.046484724, 0.03658266, 0.022235224, 0.030093659, -0.031355936, -0.057648066, -0.082023874, -0.02866642, 0.008719684, 0.009313315, -0.020100798, 0.058839366, 0.03412027, 0.04545135, 0.020671818, 0.0040386445, 0.00067502906, 0.020156603, 0.029499685, 0.07259298, -0.02871712, 0.044493258, -0.033374313, 0.016572567, 0.018161852, 0.012014249, -0.031084854, 0.055349328, -0.063368976, 0.028963713, 0.02896424, 0.0026245145, 0.06978929, -0.030436303, -0.040411502, -0.03374542, 0.015708556, 0.00052572356, -0.01096208, 0.040523767, -0.032167003, 0.015164408, -0.004207192, -0.027775606, 0.034571912, -0.0057237097, 0.045258697, 0.01561328, 0.035991553, 0.02355085, 0.006653146, -0.027862877, -0.008871192, 0.034642335, -0.0071218032, -0.015019574, 0.027018452, 0.019352276, -0.052170295, -0.011709061, 0.03088909, 0.02419152, 0.017729297, 0.09702735, 0.000640173, -0.07307718, 0.042046256, -0.035146676, 0.020523954, 0.023567865, 0.028576024, -0.0105689615, -0.026726661, -0.024299059, -0.04571672, 0.026972745, -0.039001163, 0.0434374, -0.076242425, -0.020041794, 0.036053013, 0.01895806, -0.043025535, 0.10047544, -0.014010231, -0.005252577, 0.07871359, 0.062470138, 0.016837895, 0.0143585, -0.02903566, -1.3925236e-05, 0.0266291, 0.08694954, -0.022021208, 0.05164604, -0.02270302, -0.06684834, -0.046413623, -0.0019868463, -0.008220559, -0.010641168, -0.0019545916, 0.008874838, -0.049800012, -0.03834268, -0.0032718803, 0.032959502, 0.027409011, -0.032385394, -0.020667136, -0.034211565, 0.01806061, 0.012884418, -0.027016355, 0.008269195, 0.008630648, -0.076368675, -0.013395579, -0.012895605, -0.029455747, -0.046529148, 0.021421347, -0.045345094, 0.021204202, -0.029932136, -0.03411002, 0.018982476, 0.013940213, -0.03700372]]\n"
     ]
    }
   ],
   "source": [
    "import ollama\n",
    "\n",
    "embed_model = 'hf.co/CompendiumLabs/bge-base-en-v1.5-gguf'\n",
    "lang_model = 'hf.co/bartowski/Llama-3.2-1B-Instruct-GGUF'\n",
    "\n",
    "# print(ollama.embed(model=embed_model, input=consulting_club_posts['Post Text'][0]))\n",
    "\n",
    "consulting_club_posts['embedding'] = consulting_club_posts['Post Text'].apply(\n",
    "    lambda t: ollama.embed(model=embed_model, input=t)['embeddings'])\n",
    "\n",
    "# Attempt to weight embeddings by multiplying by a coefficient calculated by the score, sigmoid function\n",
    "# Didn't work, can't multiply floats to pandas column\n",
    "# consulting_club_posts['embedding'].apply(lambda x: consulting_club_posts['Score'].apply(lambda x: 1 + 1/(1+20*pow(2, -x/100))))\n",
    "\n",
    "print(consulting_club_posts['embedding'][0])"
   ]
  },
  {
   "cell_type": "code",
   "execution_count": 6,
   "id": "1478f081",
   "metadata": {},
   "outputs": [],
   "source": [
    "def cosine_similarity(a, b):\n",
    "    # print(a)\n",
    "    # print(b)\n",
    "    if len(a) < 1 or len(b) < 1 or len(a[0]) != len(b[0]):\n",
    "        return 0\n",
    "    dot_prod = sum([x * y for x, y in zip(a[0], b[0])])\n",
    "    mag_a = pow(sum([pow(x, 2) for x in a[0]]), 0.5)\n",
    "    mag_b = pow(sum([pow(y, 2) for y in b[0]]), 0.5)\n",
    "    return dot_prod / (mag_a * mag_b)\n",
    "\n",
    "# print(consulting_club_posts['embedding'][0][0] == [x for x in consulting_club_posts['embedding'][0]])\n",
    "# print(cosine_similarity(consulting_club_posts['embedding'][0][0], consulting_club_posts['embedding'][2][0]))"
   ]
  },
  {
   "cell_type": "code",
   "execution_count": 7,
   "id": "6aeffa5a",
   "metadata": {},
   "outputs": [],
   "source": [
    "def retrieve_data(query, n=3):\n",
    "    query_embed = ollama.embed(model=embed_model, input=query)['embeddings']\n",
    "    similarities = consulting_club_posts['embedding'].apply(lambda x: cosine_similarity(query_embed, x))\n",
    "    return similarities.nlargest(n)\n"
   ]
  },
  {
   "cell_type": "code",
   "execution_count": 8,
   "id": "03140caa",
   "metadata": {},
   "outputs": [
    {
     "name": "stdout",
     "output_type": "stream",
     "text": [
      "You are a helpful chatbot.\n",
      "Use only the following pieces of context to answer the question. Don't make up any new information:\n",
      " - I'm a freshman EECS major at Cal, and didn't end up joining any clubs my first semester because I wanted to focus on generally getting used to Cal and getting an internship for the summer. Now, however, I kinda realize that my social circle/network isn't very big and I honestly want to meet more people involved with tech, and have a better overall social scene.\n",
      "\n",
      "Fortunately, I was able to get a FAANG internship for the summer, so I'm not too worried about resume value etc, and I'm more interested in working on **genuinely** cool projects and having a good time.\n",
      "\n",
      "I know a lot of the tech/consulting clubs here have a reputation for being prestige competitions, but I'm wondering if there are any that actually do interesting work(that don't require too much knowledge beforehand). Currently I'm thinking about Valley, Venture, and Voyager for consulting and Launchpad, ML@B, Blockchain and Codebase(although I'd prefer not just doing full stack stuff) for core tech.\n",
      "\n",
      "Do you guys have any opinions about these clubs and/or do you think there are better ways to get involved with the tech community here while also having a good social scene(I'd like to go on retreats etc)? I know research is one option, but I'd prefer something slightly more real-world and social.\n",
      " - Hello everyone, \n",
      "\n",
      "I'm a current freshman and I need help with what clubs to join as a first year. My major is molecular environmental biology (MEB) and I'm interested in going pre-med to become a dentist or a good paying job in my major. During high school I did a lot of volunteering and have multiple experiences in having a leadership position. Thank you. \n",
      " - Are there any fun professional frats or business clubs recruiting in the spring? Mostly looking for some people to drink beers with while maybe talking a little bit of business, i really don’t give a shit about it from a professional perspective. I’m just looking to meet people and have fun. Does anything like that exist here or are they all serious?  I’m an EECS major if it matters.  \n",
      "\n",
      "Also I looked at normal frats, the top ones were too much work and full of dicks and the bottom frats were trying way too hard, looking for something more low key\n",
      "\n"
     ]
    }
   ],
   "source": [
    "input_query = input('Ask me a question: ')\n",
    "retrieved_knowledge = retrieve_data(input_query)\n",
    "\n",
    "\n",
    "instruction_prompt = f'''You are a helpful chatbot.\n",
    "Use only the following pieces of context to answer the question. Don't make up any new information:\n",
    "{'\\n'.join([f' - {consulting_club_posts.loc[i, 'Post Text']}' for i in retrieved_knowledge.index])}\n",
    "'''\n",
    "\n",
    "print(instruction_prompt)"
   ]
  },
  {
   "cell_type": "code",
   "execution_count": 9,
   "id": "7727bf47",
   "metadata": {},
   "outputs": [
    {
     "name": "stdout",
     "output_type": "stream",
     "text": [
      "Chatbot response:\n",
      "As an EECS freshman with a background in molecular environmental biology (MEB), you may want to consider joining the following clubs:\n",
      "\n",
      "1. **Voyager**: This is one of the core tech clubs, which focuses on software development and technical projects.\n",
      "2. **Launchpad**: While this club has gained attention for its prestigious competitions, it also offers a more relaxed atmosphere and various projects that involve machine learning, data science, and other relevant areas.\n",
      "\n",
      "These two clubs seem to be a good fit for your background in EECS and MEB.\n",
      "\n",
      "The others you mentioned, such as Valley, Venture, and Blockchain & Codebase (ML@B), are likely too competitive and might not be the best fit for someone with a strong interest in socializing."
     ]
    }
   ],
   "source": [
    "stream = ollama.chat(\n",
    "  model=lang_model,\n",
    "  messages=[\n",
    "    {'role': 'system', 'content': instruction_prompt},\n",
    "    {'role': 'user', 'content': input_query},\n",
    "  ],\n",
    "  stream=True,\n",
    ")\n",
    "\n",
    "# print the response from the chatbot in real-time\n",
    "print('Chatbot response:')\n",
    "for chunk in stream:\n",
    "  print(chunk['message']['content'], end='', flush=True)\n"
   ]
  }
 ],
 "metadata": {
  "kernelspec": {
   "display_name": "Python 3",
   "language": "python",
   "name": "python3"
  },
  "language_info": {
   "codemirror_mode": {
    "name": "ipython",
    "version": 3
   },
   "file_extension": ".py",
   "mimetype": "text/x-python",
   "name": "python",
   "nbconvert_exporter": "python",
   "pygments_lexer": "ipython3",
   "version": "3.13.7"
  }
 },
 "nbformat": 4,
 "nbformat_minor": 5
}
