{
 "cells": [
  {
   "cell_type": "code",
   "execution_count": 21,
   "id": "fe14d58d",
   "metadata": {},
   "outputs": [],
   "source": [
    "import praw\n",
    "import pandas as pd\n",
    "from praw.models import MoreComments\n",
    "\n",
    "# #URL to access the app needed to scrape the data off the Berkeley subreddit\n",
    "# # https://www.reddit.com/prefs/apps\n",
    "\n",
    "\n",
    "# #PLAN\n",
    "# #Scrape the data off the Berkeley subreddit about consulting clubs\n",
    "# #Organize that data using the pandas library\n",
    "# #Create chatbot that utilizes natural language processing that will give users feedback\n",
    "# #about each consulting club here at Berkeley. \n",
    "\n",
    "reddit_read_only = praw.Reddit(client_id = \"QlBfNfxQ3e_MGP9RkaOQig\",\n",
    "                               client_secret = \"SpLjOwYdQPU4z1wqcXBjVl_7DnUIZg\",\n",
    "                               user_agent = \"Berkeley_Consulting\")\n",
    "\n",
    "subreddit = reddit_read_only.subreddit(\"berkeley\")"
   ]
  },
  {
   "cell_type": "code",
   "execution_count": 22,
   "id": "178c2806",
   "metadata": {},
   "outputs": [],
   "source": [
    "consulting_posts = subreddit.search('consulting')\n",
    "\n",
    "posts_dict = {'Title': [], 'Post Text': [], 'ID': [], 'Score': [], 'Total Comments': [], 'Post URL': []}"
   ]
  },
  {
   "cell_type": "code",
   "execution_count": 23,
   "id": "6ecf18af",
   "metadata": {},
   "outputs": [],
   "source": [
    "for post in consulting_posts:\n",
    "    #The title of the post\n",
    "    posts_dict['Title'].append(post.title)\n",
    "    #The text inside of the post\n",
    "    posts_dict['Post Text'].append(post.selftext)\n",
    "    #Unique ID of each post\n",
    "    posts_dict['ID'].append(post.id)\n",
    "    #The scoure of a post\n",
    "    posts_dict['Score'].append(post.score)\n",
    "    #Total number of comments inside the post\n",
    "    posts_dict['Total Comments'].append(post.num_comments)\n",
    "    #URL of each post\n",
    "    posts_dict['Post URL'].append(post.url)\n",
    "\n",
    "consulting_club_posts = pd.DataFrame(posts_dict)\n",
    "# print(consulting_club_posts)"
   ]
  },
  {
   "cell_type": "code",
   "execution_count": null,
   "id": "a01d1eb3",
   "metadata": {},
   "outputs": [
    {
     "name": "stdout",
     "output_type": "stream",
     "text": [
      "reading this is honestly exhausting. what is this dumb high school shit\n"
     ]
    }
   ],
   "source": [
    "#Need to figure out a way to get the URL of each and every post\n",
    "post_comments = []\n",
    "for i in posts_dict['Post URL']:\n",
    "    if 'comments' in i:\n",
    "        submission = reddit_read_only.submission(url = i)\n",
    "    else:\n",
    "        continue\n",
    "    for comment in submission.comments:\n",
    "        if type(comment) == MoreComments:\n",
    "            continue\n",
    "    post_comments.append(comment.body)\n",
    "\n",
    "\n",
    "comments_df = pd.DataFrame(post_comments, columns=['comment'])\n",
    "comments_df"
   ]
  },
  {
   "cell_type": "code",
   "execution_count": 25,
   "id": "ebed2a3d",
   "metadata": {},
   "outputs": [
    {
     "ename": "ModuleNotFoundError",
     "evalue": "No module named 'ollama'",
     "output_type": "error",
     "traceback": [
      "\u001b[31m---------------------------------------------------------------------------\u001b[39m",
      "\u001b[31mModuleNotFoundError\u001b[39m                       Traceback (most recent call last)",
      "\u001b[36mCell\u001b[39m\u001b[36m \u001b[39m\u001b[32mIn[25]\u001b[39m\u001b[32m, line 1\u001b[39m\n\u001b[32m----> \u001b[39m\u001b[32m1\u001b[39m \u001b[38;5;28;01mimport\u001b[39;00m\u001b[38;5;250m \u001b[39m\u001b[34;01mollama\u001b[39;00m\n\u001b[32m      3\u001b[39m embed_model = \u001b[33m'\u001b[39m\u001b[33mhf.co/CompendiumLabs/bge-base-en-v1.5-gguf\u001b[39m\u001b[33m'\u001b[39m\n\u001b[32m      4\u001b[39m lang_model = \u001b[33m'\u001b[39m\u001b[33mhf.co/bartowski/Llama-3.2-1B-Instruct-GGUF\u001b[39m\u001b[33m'\u001b[39m\n",
      "\u001b[31mModuleNotFoundError\u001b[39m: No module named 'ollama'"
     ]
    }
   ],
   "source": [
    "import ollama\n",
    "\n",
    "embed_model = 'hf.co/CompendiumLabs/bge-base-en-v1.5-gguf'\n",
    "lang_model = 'hf.co/bartowski/Llama-3.2-1B-Instruct-GGUF'\n",
    "\n",
    "consulting_club_posts['embedding'] = consulting_club_posts['Post Text'].apply(\n",
    "    lambda t: ollama.embed(model=embed_model, input=t)['embeddings'])\n",
    "\n",
    "# Attempt to weight embeddings by multiplying by a coefficient calculated by the score, sigmoid function\n",
    "# Didn't work, can't multiply floats to pandas column\n",
    "# consulting_club_posts['embedding'].apply(lambda x: consulting_club_posts['Score'].apply(lambda x: 1 + 1/(1+20*pow(2, -x/100))))"
   ]
  },
  {
   "cell_type": "code",
   "execution_count": null,
   "id": "1478f081",
   "metadata": {},
   "outputs": [],
   "source": [
    "def cosine_similarity(a, b):\n",
    "    if len(a) < 1 or len(b) < 1 or len(a[0]) != len(b[0]):\n",
    "        return 0\n",
    "    dot_prod = sum([x * y for x, y in zip(a[0], b[0])])\n",
    "    mag_a = pow(sum([pow(x, 2) for x in a[0]]), 0.5)\n",
    "    mag_b = pow(sum([pow(y, 2) for y in b[0]]), 0.5)\n",
    "    return dot_prod / (mag_a * mag_b)"
   ]
  },
  {
   "cell_type": "code",
   "execution_count": null,
   "id": "6aeffa5a",
   "metadata": {},
   "outputs": [],
   "source": [
    "def retrieve_data(query, n=3):\n",
    "    query_embed = ollama.embed(model=embed_model, input=query)['embeddings']\n",
    "    similarities = consulting_club_posts['embedding'].apply(lambda x: cosine_similarity(query_embed, x))\n",
    "    return similarities.nlargest(n)"
   ]
  },
  {
   "cell_type": "code",
   "execution_count": null,
   "id": "03140caa",
   "metadata": {},
   "outputs": [
    {
     "name": "stdout",
     "output_type": "stream",
     "text": [
      "You are a helpful chatbot.\n",
      "Use only the following pieces of context to answer the question. Don't make up any new information:\n",
      " - I heard consulting clubs like BC, Voyager, & BBS have really good placement and really help you forward in your career. I was looking to join one with more of social circle then just professional development stuff and was wondering what the recruiting process is like and what clubs i should look to join \n",
      " - I want to just join a consulting club to try it out and learn as much as possible. I know it’s usually hard to get into these, which ones would y’all suggest are easier to get into and have a chiller vibe overall?\n",
      " - I want to do consulting as a career after college, so I think joining a club to get some early experience could be super helpful. However, it seems like all the clubs value their “community and culture” and have swanky projects with F500 companies. \n",
      "\n",
      "I know that some differ in the sense that they might emphasize different verticals, like healthcare or tech, so there’s that. I also know that some clubs charge fees while others don’t, but does that have any implication beyond the kind of events they can host?\n",
      "\n",
      "When I apply to do consulting professionally, it just doesn’t seem like the name of the consulting club will be that significant. I speculate that they’d probably care most about my tangible experience among other factors.\n",
      "\n",
      "Does anyone know any more about this? I’m curious if the “prestige” of the club will actually be beneficial or if it’s all just arbitrary.\n",
      "\n"
     ]
    }
   ],
   "source": [
    "input_query = input('Ask me a question: ')\n",
    "retrieved_knowledge = retrieve_data(input_query)\n",
    "\n",
    "\n",
    "instruction_prompt = f'''You are a helpful chatbot.\n",
    "Use only the following pieces of context to answer the question. Don't make up any new information:\n",
    "{'\\n'.join([f' - {consulting_club_posts.loc[i, 'Post Text']}' for i in retrieved_knowledge.index])}\n",
    "'''\n",
    "\n",
    "print(instruction_prompt)"
   ]
  },
  {
   "cell_type": "code",
   "execution_count": null,
   "id": "7727bf47",
   "metadata": {},
   "outputs": [
    {
     "name": "stdout",
     "output_type": "stream",
     "text": [
      "Chatbot response:\n",
      "Acceptance into a consulting club is competitive, and there are several factors that can influence their decision. Here's a general overview:\n",
      "\n",
      "1. **Experience**: Many clubs value experience, especially for those who have been working in the industry for some time.\n",
      "2. **Skills**: Clubs often look for candidates with specific skills, such as Excel expertise, data analysis, or business acumen.\n",
      "3. **Networking**: A strong professional network and connections within the industry can be beneficial.\n",
      "4. **Personal statement or essay**: Many clubs require a personal statement or essay that highlights your relevant experience, skills, and career goals.\n",
      "5. **Recommendations**: Recommendations from alumni, colleagues, or industry professionals can increase your chances of getting accepted.\n",
      "\n",
      "To improve your chances of getting accepted into a consulting club:\n",
      "\n",
      "1. **Gain relevant experience**: Try to gain relevant work experience in the industry, even if it's not directly related to consulting.\n",
      "2. **Develop skills**: Focus on developing specific skills, such as Excel, data analysis, or communication.\n",
      "3. **Network**: Attend industry events and connect with professionals in the field.\n",
      "4. **Create a strong personal statement**: Make sure your personal statement or essay highlights your relevant experience and skills.\n",
      "\n",
      "Some additional tips:\n",
      "\n",
      "1. **Check the club's requirements**: Each club has its own set of requirements, so it's essential to check their website or contact them directly to understand what they're looking for.\n",
      "2. **Be prepared**: Be ready to answer questions about your experience, skills, and career goals during the application process.\n",
      "3. **Follow up**: If you haven't heard back within a few weeks, consider following up with a polite email to inquire about the status of your application.\n",
      "\n",
      "As for the \"chiller vibe\" aspect, some consulting clubs do prioritize community and culture over just focusing on professional development. However, it's essential to research each club thoroughly and understand their specific values and culture before applying.\n",
      "\n",
      "Some popular consulting clubs that might offer more of a focus on practical experience with social circles include:\n",
      "\n",
      "* BBS Consulting Club\n",
      "* Voyager Consulting Club\n",
      "* BC Consulting Club\n",
      "\n",
      "Keep in mind that these are just examples, and it's crucial to research each club and understand what they're looking for."
     ]
    }
   ],
   "source": [
    "stream = ollama.chat(\n",
    "  model=lang_model,\n",
    "  messages=[\n",
    "    {'role': 'system', 'content': instruction_prompt},\n",
    "    {'role': 'user', 'content': input_query},\n",
    "  ],\n",
    "  stream=True,\n",
    ")\n",
    "\n",
    "# print the response from the chatbot in real-time\n",
    "print('Chatbot response:')\n",
    "for chunk in stream:\n",
    "  print(chunk['message']['content'], end='', flush=True)\n"
   ]
  }
 ],
 "metadata": {
  "kernelspec": {
   "display_name": ".venv",
   "language": "python",
   "name": "python3"
  },
  "language_info": {
   "codemirror_mode": {
    "name": "ipython",
    "version": 3
   },
   "file_extension": ".py",
   "mimetype": "text/x-python",
   "name": "python",
   "nbconvert_exporter": "python",
   "pygments_lexer": "ipython3",
   "version": "3.13.6"
  }
 },
 "nbformat": 4,
 "nbformat_minor": 5
}
